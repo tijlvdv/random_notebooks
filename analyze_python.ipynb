{
 "cells": [
  {
   "cell_type": "markdown",
   "metadata": {},
   "source": [
    "### load libs and define constants"
   ]
  },
  {
   "cell_type": "code",
   "execution_count": 2,
   "metadata": {
    "collapsed": true
   },
   "outputs": [],
   "source": [
    "import fp_scan as fp\n",
    "import numpy as np\n",
    "import matplotlib.pyplot as plt\n",
    "%matplotlib inline \n",
    "from IPython.display import display\n",
    "from __future__ import print_function\n",
    "from ipywidgets import interact, interactive, fixed, interact_manual\n",
    "import ipywidgets as widgets\n",
    "# use seaborn plotting style defaults\n",
    "import seaborn as sns; sns.set()\n",
    "from scipy import signal, linalg"
   ]
  },
  {
   "cell_type": "markdown",
   "metadata": {},
   "source": [
    "### load data"
   ]
  },
  {
   "cell_type": "code",
   "execution_count": 2,
   "metadata": {
    "collapsed": true
   },
   "outputs": [
    {
     "ename": "SyntaxError",
     "evalue": "EOL while scanning string literal (<ipython-input-2-9b9c368282d6>, line 3)",
     "traceback": [
      "\u001b[1;36m  File \u001b[1;32m\"<ipython-input-2-9b9c368282d6>\"\u001b[1;36m, line \u001b[1;32m3\u001b[0m\n\u001b[1;33m    y = fp.fieldcamera_scan(directory='./\u001b[0m\n\u001b[1;37m                                         ^\u001b[0m\n\u001b[1;31mSyntaxError\u001b[0m\u001b[1;31m:\u001b[0m EOL while scanning string literal\n"
     ],
     "output_type": "error"
    }
   ],
   "source": [
    "bg = fp.fieldcamera_scan(directory='./', scan=1)\n",
    "x = fp.fieldcamera_scan(directory='./', scan=2)\n",
    "y = fp.fieldcamera_scan(directory='./\n",
    "                                  ', scan=3)\n",
    "z = fp.fieldcamera_scan(directory='./', scan=4)\n",
    "csi = fp.fieldcamera_scan(directory='./', scan=5)\n",
    "xfield = np.squeeze(np.mean(x.field_data,0)-np.mean(bg.field_data,0))\n",
    "yfield = np.squeeze(np.mean(y.field_data,0)-np.mean(bg.field_data,0))\n",
    "zfield = np.squeeze(np.mean(z.field_data,0)-np.mean(bg.field_data,0))"
   ]
  },
  {
   "cell_type": "markdown",
   "metadata": {},
   "source": [
    "### Create shim matrix"
   ]
  },
  {
   "cell_type": "code",
   "execution_count": 5,
   "metadata": {
    "collapsed": true
   },
   "outputs": [],
   "source": [
    "grStr = 0.1e-3 #T/m\n",
    "shimMatrix = np.zeros([16,4])\n",
    "shimMatrix[:,0] = 1\n",
    "shimMatrix[:,1] = xfield/grStr\n",
    "shimMatrix[:,2] = yfield/grStr\n",
    "shimMatrix[:,3] = zfield/grStr"
   ]
  },
  {
   "cell_type": "markdown",
   "metadata": {},
   "source": [
    "### determine background phase evolution\n",
    "* first data point is 50. After TR/switching effect, before gradient waveform\n",
    "* Remove first data point, so all phase evolutions start at 0"
   ]
  },
  {
   "cell_type": "code",
   "execution_count": 107,
   "metadata": {
    "collapsed": true
   },
   "outputs": [],
   "source": [
    "first_k = 42\n",
    "firstEl = 50\n",
    "endEl = 450\n",
    "csi_phase = np.squeeze(csi.phase_data[:,0,firstEl:endEl,:]) #radials\n",
    "csi_phase = csi_phase - np.expand_dims(csi_phase[:,0,:], 1) #radials"
   ]
  },
  {
   "cell_type": "code",
   "execution_count": 199,
   "metadata": {},
   "outputs": [
    {
     "data": {},
     "metadata": {},
     "output_type": "display_data"
    }
   ],
   "source": [
    "def plotPhaseOfDyn(dyn=0): \n",
    "    plt.plot((csi_phase[dyn,:,:])-(csi_phase[0, :,:]));\n",
    "    plt.xlabel('Time (uS)')\n",
    "    plt.ylabel('Phase (rad)')\n",
    "    plt.show()\n",
    "\n",
    "interact(plotPhaseOfDyn,  dyn=widgets.IntSlider(min=41,max=1499,step=1,value=first_k));"
   ]
  },
  {
   "cell_type": "markdown",
   "metadata": {},
   "source": [
    "### fit slot to each curve.\n",
    "Sliding window of 10(?) data points, for all dynanamics, all channels\n",
    "\n",
    "Now first order derivative"
   ]
  },
  {
   "cell_type": "code",
   "execution_count": 234,
   "metadata": {
    "collapsed": true
   },
   "outputs": [],
   "source": [
    "dt = 1e-6 \n",
    "# slot=np.arange(0,10)\n",
    "# trajectory = np.zeros_like(csi_phase)[:,:-slot.shape[0],:]\n",
    "# offset = np.zeros_like(trajectory)\n",
    "# #for dyn in np.arange(csi.nr_dynamics):\n",
    "# for ch in np.arange(csi.nr_channels):\n",
    "#     for idx in np.arange(csi_phase.shape[1]-slot.shape[0]):\n",
    "#         current_ch = np.transpose(csi_phase[:,slot+idx,ch]) # dyn as second dim\n",
    "#         fit = np.polyfit((slot+idx)*dt, current_ch,1)\n",
    "#         offset[:,idx,ch] = fit[1,:]\n",
    "#         trajectory[:,idx,ch] = fit[0,:]\n",
    "\n",
    "trajectory = np.diff(csi_phase, axis=1) # radials\n",
    "meanOffset = np.mean(trajectory[0,:,:], 0)\n",
    "meanOffset.shape\n",
    "trajectory = trajectory - meanOffset # radials\n",
    "trajectory = trajectory / dt / (2*np.pi) / 42.58e6 #  Tesla"
   ]
  },
  {
   "cell_type": "code",
   "execution_count": 227,
   "metadata": {},
   "outputs": [
    {
     "data": {},
     "metadata": {},
     "output_type": "display_data"
    }
   ],
   "source": [
    "def plotTrajectoryOfDyn(dyn=0): \n",
    "    plt.plot((trajectory[dyn,:,:]))\n",
    "    plt.xlabel('Time (uS)')\n",
    "    plt.ylabel('B (T)')\n",
    "    plt.show()\n",
    "\n",
    "interact(plotTrajectoryOfDyn,  dyn=widgets.IntSlider(min=41,max=1499,step=1,value=first_k));"
   ]
  },
  {
   "cell_type": "markdown",
   "metadata": {},
   "source": [
    "### Fit first order gradient set to each dynamic and datapoint"
   ]
  },
  {
   "cell_type": "code",
   "execution_count": 243,
   "metadata": {
    "collapsed": true
   },
   "outputs": [],
   "source": [
    "grads = np.zeros([1500, 399, 4])\n",
    "for idx in np.arange(trajectory.shape[1]):\n",
    "    grads[:, idx, :] = np.transpose(np.squeeze(linalg.lstsq(shimMatrix, np.transpose(trajectory[:, idx])))[0])\n",
    "grads = grads*1000 # mT/m"
   ]
  },
  {
   "cell_type": "markdown",
   "metadata": {},
   "source": [
    "Timing definition of gradients and acquisition\n",
    "* gradients: +0.1521 ms wrt trigger\n",
    "* AQ: +0.26 ms wrt trigger\n",
    "* first 50 μS of data are already removed\n",
    "* Gr starts at 0.1021 ms = data point 102\n",
    "* Gr ends at 0.2021 ms = data point 202\n",
    "* Aq starts at 0.21 ms = data point 210"
   ]
  },
  {
   "cell_type": "code",
   "execution_count": 471,
   "metadata": {},
   "outputs": [
    {
     "data": {},
     "metadata": {},
     "output_type": "display_data"
    }
   ],
   "source": [
    "def plotGrad(dyn=0):\n",
    "    lineObjects = plt.plot(grads[dyn,:,:]);\n",
    "    plt.scatter(102, 0, s=30);\n",
    "    plt.scatter(202, 0, s=30);\n",
    "    plt.scatter(210, 0, s=30, c='r');\n",
    "    plt.legend(lineObjects, ('B0', 'x', 'y', 'z'), loc='upper left')\n",
    "    plt.xlim((0,400))\n",
    "    plt.title('Gradient waveforms')\n",
    "    plt.xlabel('Time (uS)')\n",
    "    plt.ylabel('Gr Str (mT/m)')\n",
    "    plt.ylim((-15,15))\n",
    "    plt.show();\n",
    "interact(plotGrad,  dyn=widgets.IntSlider(min=41,max=1499,step=1,value=1198));"
   ]
  },
  {
   "cell_type": "code",
   "execution_count": 470,
   "metadata": {},
   "outputs": [
    {
     "data": {},
     "metadata": {},
     "output_type": "display_data"
    }
   ],
   "source": [
    "k_location = np.sum(grads, 1)\n",
    "\n",
    "def getGradientAreaForAxis(ax=0):\n",
    "    stepsize = 5.2744\n",
    "    stepfactor = np.arange(-5, 6) \n",
    "    if(ax==3):\n",
    "        stepsize = 4.4632\n",
    "        stepfactor = np.arange(-6, 7) \n",
    "    timeAxis = np.arange(0, 0.05e-3, dt)\n",
    "    timeAxis = np.append(timeAxis, timeAxis[-2:0:-1])\n",
    "    amplitude = timeAxis/np.max(timeAxis)\n",
    "    grAreas = np.zeros_like(stepfactor)\n",
    "    for idx, fac in enumerate(stepfactor):\n",
    "        grAreas[idx] = np.sum(amplitude*fac*stepsize)        \n",
    "    return (grAreas, stepfactor)\n",
    "\n",
    "def scatterK(ax=0):\n",
    "#     ax = ax['new']\n",
    "    if ax=='X': ax=1\n",
    "    if ax=='Y': ax=2\n",
    "    if ax=='Z': ax=3\n",
    "    for grArea in getGradientAreaForAxis(ax):\n",
    "        plt.plot([0, 1500], [grArea, grArea])\n",
    "    plt.scatter(np.arange(1500), k_location[:,ax]);\n",
    "    plt.title('k-space encoding')\n",
    "    plt.xlabel('K-line (#)')\n",
    "    plt.ylabel('sumOfGradient')\n",
    "    plt.xlim((0,1500))\n",
    "    plt.show()\n",
    "\n",
    "interact(scatterK, ax=['X','Y','Z']);"
   ]
  },
  {
   "cell_type": "code",
   "execution_count": 488,
   "metadata": {},
   "outputs": [
    {
     "data": {},
     "metadata": {},
     "output_type": "display_data"
    }
   ],
   "source": [
    "def plotHist(ax='X'):\n",
    "#     ax = ax['new']\n",
    "    if ax=='X': axis=1\n",
    "    if ax=='Y': axis=2\n",
    "    if ax=='Z': axis=3\n",
    "    grArea, stepfactor = getGradientAreaForAxis(axis)\n",
    "    diffGrArea = grArea[1]-grArea[0]\n",
    "    hist = np.digitize(k_location[:,axis], grArea+diffGrArea/2)\n",
    "    theMeans = np.zeros_like(grArea)\n",
    "    for idx in np.arange(stepfactor.shape[0]):\n",
    "        if axis==3 and (idx==0 or idx==12):\n",
    "            continue\n",
    "        theMeans[idx] = np.mean(k_location[hist == idx,axis])\n",
    "    \n",
    "    np.seterr(divide='ignore',  invalid='ignore') #middle value of grArea is 0\n",
    "    relativeError = (theMeans/grArea)\n",
    "\n",
    "    # plot\n",
    "    width=0.35\n",
    "    plt.bar(stepfactor, grArea, width=width)\n",
    "    plt.bar(stepfactor+width, theMeans, color='r', width=width)\n",
    "    plt.legend(('Requested area', 'Delivered area'), loc='upper left')\n",
    "    plt.xlabel('Phase encoding step')\n",
    "    plt.ylabel('Gradient area')\n",
    "    plt.title('Reguested and delivered gradient area')\n",
    "    plt.xlim((-6.5, 7))\n",
    "    plt.show()\n",
    "    \n",
    "    \n",
    "    print(\"Relative gradient area of {}:\".format(ax))\n",
    "    for idx, relErr in enumerate(relativeError):\n",
    "        print(\"phase step: {} area {} \".format(stepfactor[idx], relErr*100))\n",
    "  \n",
    "    \n",
    "interact(plotHist, ax=['X','Y','Z']);"
   ]
  }
 ],
 "metadata": {
  "kernelspec": {
   "display_name": "Python [default]",
   "language": "python",
   "name": "python3"
  },
  "language_info": {
   "codemirror_mode": {
    "name": "ipython",
    "version": 3.0
   },
   "file_extension": ".py",
   "mimetype": "text/x-python",
   "name": "python",
   "nbconvert_exporter": "python",
   "pygments_lexer": "ipython3",
   "version": "3.5.3"
  }
 },
 "nbformat": 4,
 "nbformat_minor": 0
}